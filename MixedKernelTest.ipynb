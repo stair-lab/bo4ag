{
  "nbformat": 4,
  "nbformat_minor": 0,
  "metadata": {
    "colab": {
      "provenance": [],
      "authorship_tag": "ABX9TyMpQ3EXkFWoeDhwGS3zltwf",
      "include_colab_link": true
    },
    "kernelspec": {
      "name": "python3",
      "display_name": "Python 3"
    },
    "language_info": {
      "name": "python"
    }
  },
  "cells": [
    {
      "cell_type": "markdown",
      "metadata": {
        "id": "view-in-github",
        "colab_type": "text"
      },
      "source": [
        "<a href=\"https://colab.research.google.com/github/ruhanaazam/gp_transfer/blob/main/MixedKernelTest.ipynb\" target=\"_parent\"><img src=\"https://colab.research.google.com/assets/colab-badge.svg\" alt=\"Open In Colab\"/></a>"
      ]
    },
    {
      "cell_type": "code",
      "execution_count": 1,
      "metadata": {
        "colab": {
          "base_uri": "https://localhost:8080/"
        },
        "id": "VP0bM4HbO1f8",
        "outputId": "b26e2c83-111f-45ad-c290-f3113177a85d"
      },
      "outputs": [
        {
          "output_type": "stream",
          "name": "stdout",
          "text": [
            "Drive already mounted at /content/drive/; to attempt to forcibly remount, call drive.mount(\"/content/drive/\", force_remount=True).\n"
          ]
        }
      ],
      "source": [
        "from google.colab import drive\n",
        "drive.mount('/content/drive/')"
      ]
    },
    {
      "cell_type": "code",
      "source": [
        "!cd drive"
      ],
      "metadata": {
        "id": "k_eXSNtIO_Zt"
      },
      "execution_count": 2,
      "outputs": []
    },
    {
      "cell_type": "code",
      "source": [
        "!pip install gpytorch\n",
        "!pip install botorch"
      ],
      "metadata": {
        "id": "egHIkDIoPldz",
        "colab": {
          "base_uri": "https://localhost:8080/"
        },
        "outputId": "668b9dd0-c22e-429a-ff1a-3c0eef2a6e0e"
      },
      "execution_count": 3,
      "outputs": [
        {
          "output_type": "stream",
          "name": "stdout",
          "text": [
            "Requirement already satisfied: gpytorch in /usr/local/lib/python3.10/dist-packages (1.11)\n",
            "Requirement already satisfied: scikit-learn in /usr/local/lib/python3.10/dist-packages (from gpytorch) (1.2.2)\n",
            "Requirement already satisfied: linear-operator>=0.5.0 in /usr/local/lib/python3.10/dist-packages (from gpytorch) (0.5.1)\n",
            "Requirement already satisfied: torch>=1.11 in /usr/local/lib/python3.10/dist-packages (from linear-operator>=0.5.0->gpytorch) (2.1.0+cu121)\n",
            "Requirement already satisfied: scipy in /usr/local/lib/python3.10/dist-packages (from linear-operator>=0.5.0->gpytorch) (1.11.4)\n",
            "Requirement already satisfied: jaxtyping>=0.2.9 in /usr/local/lib/python3.10/dist-packages (from linear-operator>=0.5.0->gpytorch) (0.2.25)\n",
            "Requirement already satisfied: typeguard~=2.13.3 in /usr/local/lib/python3.10/dist-packages (from linear-operator>=0.5.0->gpytorch) (2.13.3)\n",
            "Requirement already satisfied: numpy>=1.17.3 in /usr/local/lib/python3.10/dist-packages (from scikit-learn->gpytorch) (1.23.5)\n",
            "Requirement already satisfied: joblib>=1.1.1 in /usr/local/lib/python3.10/dist-packages (from scikit-learn->gpytorch) (1.3.2)\n",
            "Requirement already satisfied: threadpoolctl>=2.0.0 in /usr/local/lib/python3.10/dist-packages (from scikit-learn->gpytorch) (3.2.0)\n",
            "Requirement already satisfied: typing-extensions>=3.7.4.1 in /usr/local/lib/python3.10/dist-packages (from jaxtyping>=0.2.9->linear-operator>=0.5.0->gpytorch) (4.5.0)\n",
            "Requirement already satisfied: filelock in /usr/local/lib/python3.10/dist-packages (from torch>=1.11->linear-operator>=0.5.0->gpytorch) (3.13.1)\n",
            "Requirement already satisfied: sympy in /usr/local/lib/python3.10/dist-packages (from torch>=1.11->linear-operator>=0.5.0->gpytorch) (1.12)\n",
            "Requirement already satisfied: networkx in /usr/local/lib/python3.10/dist-packages (from torch>=1.11->linear-operator>=0.5.0->gpytorch) (3.2.1)\n",
            "Requirement already satisfied: jinja2 in /usr/local/lib/python3.10/dist-packages (from torch>=1.11->linear-operator>=0.5.0->gpytorch) (3.1.3)\n",
            "Requirement already satisfied: fsspec in /usr/local/lib/python3.10/dist-packages (from torch>=1.11->linear-operator>=0.5.0->gpytorch) (2023.6.0)\n",
            "Requirement already satisfied: triton==2.1.0 in /usr/local/lib/python3.10/dist-packages (from torch>=1.11->linear-operator>=0.5.0->gpytorch) (2.1.0)\n",
            "Requirement already satisfied: MarkupSafe>=2.0 in /usr/local/lib/python3.10/dist-packages (from jinja2->torch>=1.11->linear-operator>=0.5.0->gpytorch) (2.1.4)\n",
            "Requirement already satisfied: mpmath>=0.19 in /usr/local/lib/python3.10/dist-packages (from sympy->torch>=1.11->linear-operator>=0.5.0->gpytorch) (1.3.0)\n",
            "Requirement already satisfied: botorch in /usr/local/lib/python3.10/dist-packages (0.9.5)\n",
            "Requirement already satisfied: multipledispatch in /usr/local/lib/python3.10/dist-packages (from botorch) (1.0.0)\n",
            "Requirement already satisfied: scipy in /usr/local/lib/python3.10/dist-packages (from botorch) (1.11.4)\n",
            "Requirement already satisfied: torch>=1.13.1 in /usr/local/lib/python3.10/dist-packages (from botorch) (2.1.0+cu121)\n",
            "Requirement already satisfied: pyro-ppl>=1.8.4 in /usr/local/lib/python3.10/dist-packages (from botorch) (1.8.6)\n",
            "Requirement already satisfied: gpytorch==1.11 in /usr/local/lib/python3.10/dist-packages (from botorch) (1.11)\n",
            "Requirement already satisfied: linear-operator==0.5.1 in /usr/local/lib/python3.10/dist-packages (from botorch) (0.5.1)\n",
            "Requirement already satisfied: scikit-learn in /usr/local/lib/python3.10/dist-packages (from gpytorch==1.11->botorch) (1.2.2)\n",
            "Requirement already satisfied: jaxtyping>=0.2.9 in /usr/local/lib/python3.10/dist-packages (from linear-operator==0.5.1->botorch) (0.2.25)\n",
            "Requirement already satisfied: typeguard~=2.13.3 in /usr/local/lib/python3.10/dist-packages (from linear-operator==0.5.1->botorch) (2.13.3)\n",
            "Requirement already satisfied: numpy>=1.7 in /usr/local/lib/python3.10/dist-packages (from pyro-ppl>=1.8.4->botorch) (1.23.5)\n",
            "Requirement already satisfied: opt-einsum>=2.3.2 in /usr/local/lib/python3.10/dist-packages (from pyro-ppl>=1.8.4->botorch) (3.3.0)\n",
            "Requirement already satisfied: pyro-api>=0.1.1 in /usr/local/lib/python3.10/dist-packages (from pyro-ppl>=1.8.4->botorch) (0.1.2)\n",
            "Requirement already satisfied: tqdm>=4.36 in /usr/local/lib/python3.10/dist-packages (from pyro-ppl>=1.8.4->botorch) (4.66.1)\n",
            "Requirement already satisfied: filelock in /usr/local/lib/python3.10/dist-packages (from torch>=1.13.1->botorch) (3.13.1)\n",
            "Requirement already satisfied: typing-extensions in /usr/local/lib/python3.10/dist-packages (from torch>=1.13.1->botorch) (4.5.0)\n",
            "Requirement already satisfied: sympy in /usr/local/lib/python3.10/dist-packages (from torch>=1.13.1->botorch) (1.12)\n",
            "Requirement already satisfied: networkx in /usr/local/lib/python3.10/dist-packages (from torch>=1.13.1->botorch) (3.2.1)\n",
            "Requirement already satisfied: jinja2 in /usr/local/lib/python3.10/dist-packages (from torch>=1.13.1->botorch) (3.1.3)\n",
            "Requirement already satisfied: fsspec in /usr/local/lib/python3.10/dist-packages (from torch>=1.13.1->botorch) (2023.6.0)\n",
            "Requirement already satisfied: triton==2.1.0 in /usr/local/lib/python3.10/dist-packages (from torch>=1.13.1->botorch) (2.1.0)\n",
            "Requirement already satisfied: MarkupSafe>=2.0 in /usr/local/lib/python3.10/dist-packages (from jinja2->torch>=1.13.1->botorch) (2.1.4)\n",
            "Requirement already satisfied: joblib>=1.1.1 in /usr/local/lib/python3.10/dist-packages (from scikit-learn->gpytorch==1.11->botorch) (1.3.2)\n",
            "Requirement already satisfied: threadpoolctl>=2.0.0 in /usr/local/lib/python3.10/dist-packages (from scikit-learn->gpytorch==1.11->botorch) (3.2.0)\n",
            "Requirement already satisfied: mpmath>=0.19 in /usr/local/lib/python3.10/dist-packages (from sympy->torch>=1.13.1->botorch) (1.3.0)\n"
          ]
        }
      ]
    },
    {
      "cell_type": "code",
      "source": [
        "import torch\n",
        "import pandas as pd\n",
        "from sklearn.model_selection import train_test_split\n",
        "import numpy as np\n",
        "import gpytorch\n",
        "from botorch.utils.transforms import normalize, standardize\n",
        "import matplotlib.pyplot as plt\n",
        "\n",
        "from botorch import fit_gpytorch_model\n",
        "from botorch.models import SingleTaskGP, MixedSingleTaskGP\n",
        "from gpytorch.mlls import ExactMarginalLogLikelihood\n",
        "from botorch.models.transforms import Standardize, Normalize\n",
        "from botorch.utils.transforms import normalize, standardize\n",
        "from botorch.fit import fit_gpytorch_mll\n",
        "\n",
        "# Check if GPU is available\n",
        "device = torch.device(\"cuda\" if torch.cuda.is_available() else \"cpu\")"
      ],
      "metadata": {
        "id": "ra70LWXBPFRL"
      },
      "execution_count": 4,
      "outputs": []
    },
    {
      "cell_type": "code",
      "source": [
        "def surfacePlot(model, title = \"Your Function\" ,n=900):\n",
        "    '''\n",
        "    Plots your (true or estimated) coheritability function.\n",
        "    model: function that takes in two wavelength and outputs coh2 (estimate)\n",
        "    n: n**2 is the number of points to plot the surface\n",
        "    '''\n",
        "    # Generate data for the plot\n",
        "    x1 = torch.linspace(0, 1, n)\n",
        "    x2 = torch.linspace(0, 1, n)\n",
        "    X1, X2 = torch.meshgrid(x1, x2)\n",
        "    X = torch.stack([X1.reshape((-1)),X2.reshape((-1))]).T\n",
        "\n",
        "    Z = model(X.to(device)).cpu().detach().numpy()\n",
        "\n",
        "    # Create a contour plot\n",
        "    plt.contourf(X1, X2, Z.reshape(n, n), cmap='viridis')\n",
        "    plt.colorbar(label='Function Value')\n",
        "\n",
        "    #plot top 1%\n",
        "    #threshold = np.percentile(Z, 99)\n",
        "    #threshold = torch.kthvalue(Z.flatten(), int(0.99 * n * n)).values\n",
        "    #plt.contour(X1, X2, Z.reshape(n, n), levels=[threshold], colors='red', linewidths=2)\n",
        "\n",
        "    # Add labels and title\n",
        "    plt.xlabel('Wavelength 1')\n",
        "    plt.ylabel('Wavelength 2')\n",
        "    plt.title(title)\n",
        "\n",
        "    # Show the plot\n",
        "    plt.show()\n",
        "    return"
      ],
      "metadata": {
        "id": "PXDaiVe5PHr5"
      },
      "execution_count": 5,
      "outputs": []
    },
    {
      "cell_type": "code",
      "source": [
        "def getTaskID(trait, crop=\"Sorghum\"):\n",
        "    assert crop == \"Sorghum\", \"Does not handles ids for from that are not Sorghum yet.\"\n",
        "    ids = {\"narea\": 1, \"sla\": 2, \"pn\": 3, \"ps\": 4}\n",
        "    return ids[trait]"
      ],
      "metadata": {
        "id": "fXXuL2OGPLZS"
      },
      "execution_count": 6,
      "outputs": []
    },
    {
      "cell_type": "code",
      "source": [
        "def loadTasks(tasks):\n",
        "    taskData = []\n",
        "    for trait in tasks:\n",
        "        #read raw task file\n",
        "        data = pd.read_csv(f\"/content/drive/My Drive/Colab Notebooks/Transfer_Coh2/data/{trait}_coh2.csv\")\n",
        "        data = torch.tensor(data.values)\n",
        "\n",
        "        #format data for supervised training, each row (taskid, wave1, wave2, coh2)\n",
        "        n = torch.ones(data.shape[0], dtype=torch.float32)\n",
        "        col_index =  torch.arange(data.shape[0], dtype=torch.float32)\n",
        "        col_index = torch.outer(n, col_index)\n",
        "        row_index = col_index.T\n",
        "\n",
        "        #stack wave1, wave2 and coh2 tensors together\n",
        "        task_ids = torch.ones(data.shape) * getTaskID(trait)\n",
        "        flat_data = torch.stack([task_ids.flatten(), col_index.flatten(), row_index.flatten(), data.flatten()])\n",
        "        flat_data = flat_data.T\n",
        "\n",
        "        #remove all rows with nans\n",
        "        nan_mask = torch.isnan(flat_data)\n",
        "        nan_in_rows = torch.any(nan_mask, dim=1)\n",
        "        clean = flat_data[~nan_in_rows]\n",
        "\n",
        "        taskData.append(clean)\n",
        "\n",
        "    #combine all tasks\n",
        "    all_tasks = torch.cat(taskData)\n",
        "    return all_tasks[:, :3], all_tasks[:, -1]"
      ],
      "metadata": {
        "id": "PQ6jsov2PQsD"
      },
      "execution_count": 7,
      "outputs": []
    },
    {
      "cell_type": "code",
      "source": [
        "#Load data (by tasks)\n",
        "X, Y = loadTasks([\"narea\", \"sla\", \"pn\", \"ps\"])\n",
        "\n",
        "#Split into train and validation sets\n",
        "seed = 1234\n",
        "split = 0.85\n",
        "x_train, x_test, y_train, y_test = train_test_split(X, Y, test_size=split, random_state=seed)\n",
        "\n",
        "# Convert NumPy arrays to PyTorch tensors\n",
        "x_train = torch.tensor(x_train, dtype=torch.float64)\n",
        "y_train = torch.tensor(y_train, dtype=torch.float64)\n",
        "x_test = torch.tensor(x_test, dtype=torch.float64)\n",
        "y_test = torch.tensor(y_test, dtype=torch.float64)"
      ],
      "metadata": {
        "id": "jsRiYk1ZPR7L",
        "colab": {
          "base_uri": "https://localhost:8080/"
        },
        "outputId": "d6430daf-60f2-428a-c07b-ef84c0b824df"
      },
      "execution_count": 8,
      "outputs": [
        {
          "output_type": "stream",
          "name": "stderr",
          "text": [
            "<ipython-input-8-e16cc57aed88>:10: UserWarning: To copy construct from a tensor, it is recommended to use sourceTensor.clone().detach() or sourceTensor.clone().detach().requires_grad_(True), rather than torch.tensor(sourceTensor).\n",
            "  x_train = torch.tensor(x_train, dtype=torch.float64)\n",
            "<ipython-input-8-e16cc57aed88>:11: UserWarning: To copy construct from a tensor, it is recommended to use sourceTensor.clone().detach() or sourceTensor.clone().detach().requires_grad_(True), rather than torch.tensor(sourceTensor).\n",
            "  y_train = torch.tensor(y_train, dtype=torch.float64)\n",
            "<ipython-input-8-e16cc57aed88>:12: UserWarning: To copy construct from a tensor, it is recommended to use sourceTensor.clone().detach() or sourceTensor.clone().detach().requires_grad_(True), rather than torch.tensor(sourceTensor).\n",
            "  x_test = torch.tensor(x_test, dtype=torch.float64)\n",
            "<ipython-input-8-e16cc57aed88>:13: UserWarning: To copy construct from a tensor, it is recommended to use sourceTensor.clone().detach() or sourceTensor.clone().detach().requires_grad_(True), rather than torch.tensor(sourceTensor).\n",
            "  y_test = torch.tensor(y_test, dtype=torch.float64)\n"
          ]
        }
      ]
    },
    {
      "cell_type": "code",
      "source": [
        "#small sanity check run\n",
        "N = 100\n",
        "d_xtrain = x_train[:N,0].reshape(-1,1) #discrete part\n",
        "c_xtrain = normalize(x_train[:N, 1:], torch.tensor([[0,0],[2150,2150]])) #continous part\n",
        "x_train_normalized = torch.cat([c_xtrain, d_xtrain], dim=1)\n",
        "y_train_standardized = standardize(y_train[:N]).reshape(-1,1)\n",
        "\n",
        "#model = SingleTaskGP(c_xtrain, y_train.reshape(-1,1))\n",
        "model = MixedSingleTaskGP(x_train_normalized, y_train_standardized, cat_dims=[-1])\n",
        "\n",
        "# Use Exact Marginal Log Likelihood as the loss\n",
        "mll = ExactMarginalLogLikelihood(model.likelihood, model)\n",
        "\n",
        "# Fit the model\n",
        "fit_gpytorch_mll(mll, )\n",
        "\n",
        "#get gaussian likelihood then it has object noise\n",
        "#refer: https://docs.gpytorch.ai/en/stable/likelihoods.html\n",
        "print(f\"noise: {model.likelihood.noise.item()}\")\n",
        "\n",
        "#Get the lengthscale\n",
        "#kernel = model.covar_module.base_kernel\n",
        "#print(f\"lengthscale: {kernel.lengthscale.detach()}\")\n",
        "print(model.covar_module)"
      ],
      "metadata": {
        "id": "pbgM4TOsRgN3",
        "colab": {
          "base_uri": "https://localhost:8080/"
        },
        "outputId": "938d8054-b419-4840-bda0-d9b1e56e9615"
      },
      "execution_count": 10,
      "outputs": [
        {
          "output_type": "stream",
          "name": "stderr",
          "text": [
            "/usr/local/lib/python3.10/dist-packages/botorch/models/utils/assorted.py:174: InputDataWarning: Input data is not contained to the unit cube. Please consider min-max scaling the input data.\n",
            "  warnings.warn(msg, InputDataWarning)\n"
          ]
        },
        {
          "output_type": "stream",
          "name": "stdout",
          "text": [
            "noise: 9.999999974752427e-07\n",
            "AdditiveKernel(\n",
            "  (kernels): ModuleList(\n",
            "    (0): ScaleKernel(\n",
            "      (base_kernel): AdditiveKernel(\n",
            "        (kernels): ModuleList(\n",
            "          (0): MaternKernel(\n",
            "            (raw_lengthscale_constraint): GreaterThan(1.000E-04)\n",
            "          )\n",
            "          (1): ScaleKernel(\n",
            "            (base_kernel): CategoricalKernel(\n",
            "              (raw_lengthscale_constraint): GreaterThan(1.000E-06)\n",
            "            )\n",
            "            (raw_outputscale_constraint): Positive()\n",
            "          )\n",
            "        )\n",
            "      )\n",
            "      (raw_outputscale_constraint): Positive()\n",
            "    )\n",
            "    (1): ScaleKernel(\n",
            "      (base_kernel): ProductKernel(\n",
            "        (kernels): ModuleList(\n",
            "          (0): MaternKernel(\n",
            "            (raw_lengthscale_constraint): GreaterThan(1.000E-04)\n",
            "          )\n",
            "          (1): CategoricalKernel(\n",
            "            (raw_lengthscale_constraint): GreaterThan(1.000E-06)\n",
            "          )\n",
            "        )\n",
            "      )\n",
            "      (raw_outputscale_constraint): Positive()\n",
            "    )\n",
            "  )\n",
            ")\n"
          ]
        }
      ]
    },
    {
      "cell_type": "code",
      "source": [
        "#train SingleTaskGP\n",
        "results = {\"val_loss\":[],\n",
        "           \"train_loss\": []}\n",
        "\n",
        "x_test_normalize = normalize(x_test[:1000, 1:], torch.tensor([[0,0],[2150,2150]]))\n",
        "y_test_standardized = standardize(y_test[:1000]).reshape(-1,1)\n",
        "option_n = [i for i in range(500, 3500, 500)]\n",
        "\n",
        "for N in option_n:\n",
        "  d_xtrain = x_train[:N,0].reshape(-1,1) #discrete part\n",
        "  c_xtrain = normalize(x_train[:N, 1:], torch.tensor([[0,0],[2150,2150]])) #continous part\n",
        "  x_train_normalized = torch.cat([c_xtrain, d_xtrain], dim=1)\n",
        "  y_train_standardized = standardize(y_train[:N]).reshape(-1,1)\n",
        "\n",
        "  model = SingleTaskGP(c_xtrain, y_train_standardized)\n",
        "  #model = MixedSingleTaskGP(x_train_normalized, y_train_standardized, cat_dims=[-1])\n",
        "\n",
        "  # Use Exact Marginal Log Likelihood as the loss\n",
        "  mll = ExactMarginalLogLikelihood(model.likelihood, model)\n",
        "\n",
        "  # Fit the model\n",
        "  fit_gpytorch_mll(mll, )\n",
        "\n",
        "  #get gaussian likelihood then it has object noise\n",
        "  #refer: https://docs.gpytorch.ai/en/stable/likelihoods.html\n",
        "  #print(f\"noise: {model.likelihood.noise.item()}\")\n",
        "\n",
        "  #Get the lengthscale\n",
        "  #kernel = model.covar_module.base_kernel\n",
        "  #print(f\"lengthscale: {kernel.lengthscale.detach()}\")\n",
        "  #print(model.covar_module)\n",
        "\n",
        "  #save the losses\n",
        "  y_hat = model.posterior(x_test_normalize).mean\n",
        "  val_loss = torch.mean((y_test_standardized - y_hat)**2).item()\n",
        "  results[\"val_loss\"].append(val_loss)\n",
        "\n",
        "  y_hat = model.posterior(c_xtrain).mean\n",
        "  train_loss = torch.mean((y_train_standardized - y_hat)**2).item()\n",
        "  results[\"train_loss\"].append(train_loss)"
      ],
      "metadata": {
        "id": "gPsLYSEKNGMd"
      },
      "execution_count": 11,
      "outputs": []
    },
    {
      "cell_type": "code",
      "source": [
        "#plot training and validation loss\n",
        "# Create a line plot\n",
        "plt.plot(option_n, results[\"val_loss\"], label = \"val_loss\")\n",
        "plt.plot(option_n, results[\"train_loss\"], label = \"train_loss\")\n",
        "\n",
        "# Add labels and title\n",
        "plt.xlabel('N points')\n",
        "plt.ylabel('MSE Loss')\n",
        "plt.title('Samples vs Loss')\n",
        "plt.legend()\n",
        "\n",
        "# Show the plot\n",
        "plt.show()"
      ],
      "metadata": {
        "colab": {
          "base_uri": "https://localhost:8080/",
          "height": 472
        },
        "id": "5U4KBRziNKMQ",
        "outputId": "74a65174-2417-443e-80f1-314fd83c3f0e"
      },
      "execution_count": 12,
      "outputs": [
        {
          "output_type": "display_data",
          "data": {
            "text/plain": [
              "<Figure size 640x480 with 1 Axes>"
            ],
            "image/png": "[encoded data removed]"
          },
          "metadata": {}
        }
      ]
    },
    {
      "cell_type": "code",
      "source": [
        "#train MultiTaskGP\n",
        "results = {\"val_loss\":[],\n",
        "           \"train_loss\": []}\n",
        "\n",
        "d_xtest = x_test[:1000,0].reshape(-1,1) #discrete part\n",
        "c_xtest = normalize(x_test[:1000, 1:], torch.tensor([[0,0],[2150,2150]])) #continous part\n",
        "x_test_normalized = torch.cat([c_xtest, d_xtest], dim=1)\n",
        "y_test_standardized = standardize(y_test[:1000]).reshape(-1,1)\n",
        "\n",
        "for N in option_n:\n",
        "  d_xtrain = x_train[:N,0].reshape(-1,1) #discrete part\n",
        "  c_xtrain = normalize(x_train[:N, 1:], torch.tensor([[0,0],[2150,2150]])) #continous part\n",
        "  x_train_normalized = torch.cat([c_xtrain, d_xtrain], dim=1)\n",
        "  y_train_standardized = standardize(y_train[:N]).reshape(-1,1)\n",
        "\n",
        "  #model = SingleTaskGP(c_xtrain, y_train_standardized)\n",
        "  model = MixedSingleTaskGP(x_train_normalized, y_train_standardized, cat_dims=[-1])\n",
        "\n",
        "  # Use Exact Marginal Log Likelihood as the loss\n",
        "  mll = ExactMarginalLogLikelihood(model.likelihood, model)\n",
        "\n",
        "  # Fit the model\n",
        "  fit_gpytorch_mll(mll, )\n",
        "\n",
        "  #get gaussian likelihood then it has object noise\n",
        "  #refer: https://docs.gpytorch.ai/en/stable/likelihoods.html\n",
        "  #print(f\"noise: {model.likelihood.noise.item()}\")\n",
        "\n",
        "  #Get the lengthscale\n",
        "  #kernel = model.covar_module.base_kernel\n",
        "  #print(f\"lengthscale: {kernel.lengthscale.detach()}\")\n",
        "  #print(model.covar_module)\n",
        "\n",
        "  #save the losses\n",
        "  y_hat = model.posterior(x_test_normalized).mean\n",
        "  val_loss = torch.mean((y_test_standardized - y_hat)**2).item()\n",
        "  results[\"val_loss\"].append(val_loss)\n",
        "\n",
        "  y_hat = model.posterior(x_train_normalized).mean\n",
        "  train_loss = torch.mean((y_train_standardized - y_hat)**2).item()\n",
        "  results[\"train_loss\"].append(train_loss)"
      ],
      "metadata": {
        "colab": {
          "base_uri": "https://localhost:8080/"
        },
        "id": "shnpJJCrmdpJ",
        "outputId": "0575faea-4641-426e-a9cd-c57a93f43814"
      },
      "execution_count": 16,
      "outputs": [
        {
          "output_type": "stream",
          "name": "stderr",
          "text": [
            "/usr/local/lib/python3.10/dist-packages/botorch/models/utils/assorted.py:174: InputDataWarning: Input data is not contained to the unit cube. Please consider min-max scaling the input data.\n",
            "  warnings.warn(msg, InputDataWarning)\n",
            "/usr/local/lib/python3.10/dist-packages/botorch/models/utils/assorted.py:174: InputDataWarning: Input data is not contained to the unit cube. Please consider min-max scaling the input data.\n",
            "  warnings.warn(msg, InputDataWarning)\n",
            "/usr/local/lib/python3.10/dist-packages/botorch/models/utils/assorted.py:174: InputDataWarning: Input data is not contained to the unit cube. Please consider min-max scaling the input data.\n",
            "  warnings.warn(msg, InputDataWarning)\n",
            "/usr/local/lib/python3.10/dist-packages/botorch/models/utils/assorted.py:174: InputDataWarning: Input data is not contained to the unit cube. Please consider min-max scaling the input data.\n",
            "  warnings.warn(msg, InputDataWarning)\n",
            "/usr/local/lib/python3.10/dist-packages/botorch/models/utils/assorted.py:174: InputDataWarning: Input data is not contained to the unit cube. Please consider min-max scaling the input data.\n",
            "  warnings.warn(msg, InputDataWarning)\n",
            "/usr/local/lib/python3.10/dist-packages/botorch/models/utils/assorted.py:174: InputDataWarning: Input data is not contained to the unit cube. Please consider min-max scaling the input data.\n",
            "  warnings.warn(msg, InputDataWarning)\n"
          ]
        }
      ]
    },
    {
      "cell_type": "code",
      "source": [
        "#plot training and validation loss\n",
        "# Create a line plot\n",
        "plt.plot(option_n, results[\"val_loss\"], label = \"val_loss\")\n",
        "plt.plot(option_n, results[\"train_loss\"], label = \"train_loss\")\n",
        "\n",
        "# Add labels and title\n",
        "plt.xlabel('N points')\n",
        "plt.ylabel('MSE Loss')\n",
        "plt.title('Samples vs Loss')\n",
        "plt.legend()\n",
        "\n",
        "# Show the plot\n",
        "plt.show()"
      ],
      "metadata": {
        "colab": {
          "base_uri": "https://localhost:8080/",
          "height": 472
        },
        "id": "nW9ZXv_pqbs_",
        "outputId": "4bda6948-0a52-4596-e0bf-c901f133e501"
      },
      "execution_count": 18,
      "outputs": [
        {
          "output_type": "display_data",
          "data": {
            "text/plain": [
              "<Figure size 640x480 with 1 Axes>"
            ],
            "image/png": "[encoded data removed]"
          },
          "metadata": {}
        }
      ]
    },
    {
      "cell_type": "code",
      "source": [
        "# def getLossByTask(x_pred, y, model, results, label):\n",
        "#   #must be botroch gp model\n",
        "#   for task in [\"narea\", \"sla\", \"pn\", \"ps\"]:\n",
        "#     id = getTaskID(task)\n",
        "#     x_task = x_pred[x_pred[:, 0] == id]\n",
        "#       y_task = y[x_pred[:, 0] == id]\n",
        "#       y_hat = model.posterior(x_pred).mean\n",
        "#       loss = torch.mean((y_hat - y_task)**2).item()\n",
        "\n",
        "#       results[f\"{task}_{label}\"] = results.get(f\"{task}_{label}\", []) + [loss]\n",
        "#     return results"
      ],
      "metadata": {
        "id": "kaKOhka9q-_o"
      },
      "execution_count": null,
      "outputs": []
    },
    {
      "cell_type": "code",
      "source": [
        "task = \"narea\"\n",
        "\n",
        "def modelWrapper(X):\n",
        "  id = getTaskID(task)\n",
        "  id_vector = id * torch.ones((X.shape[0],1))\n",
        "  inp = torch.cat([X, id_vector], dim=1)\n",
        "  return model.posterior(inp).mean\n",
        "\n",
        "surfacePlot(modelWrapper, title=f\"GP for task {task}, {len(x_train)} points\", n=100)"
      ],
      "metadata": {
        "id": "ZYu0ZjM_nwPz",
        "colab": {
          "base_uri": "https://localhost:8080/",
          "height": 210
        },
        "outputId": "dfc1867c-d06e-4efe-a502-0d09357fdd70"
      },
      "execution_count": 1,
      "outputs": [
        {
          "output_type": "error",
          "ename": "NameError",
          "evalue": "name 'surfacePlot' is not defined",
          "traceback": [
            "\u001b[0;31m---------------------------------------------------------------------------\u001b[0m",
            "\u001b[0;31mNameError\u001b[0m                                 Traceback (most recent call last)",
            "\u001b[0;32m<ipython-input-1-66da863b746a>\u001b[0m in \u001b[0;36m<cell line: 9>\u001b[0;34m()\u001b[0m\n\u001b[1;32m      7\u001b[0m   \u001b[0;32mreturn\u001b[0m \u001b[0mmodel\u001b[0m\u001b[0;34m.\u001b[0m\u001b[0mposterior\u001b[0m\u001b[0;34m(\u001b[0m\u001b[0minp\u001b[0m\u001b[0;34m)\u001b[0m\u001b[0;34m.\u001b[0m\u001b[0mmean\u001b[0m\u001b[0;34m\u001b[0m\u001b[0;34m\u001b[0m\u001b[0m\n\u001b[1;32m      8\u001b[0m \u001b[0;34m\u001b[0m\u001b[0m\n\u001b[0;32m----> 9\u001b[0;31m \u001b[0msurfacePlot\u001b[0m\u001b[0;34m(\u001b[0m\u001b[0mmodelWrapper\u001b[0m\u001b[0;34m,\u001b[0m \u001b[0mtitle\u001b[0m\u001b[0;34m=\u001b[0m\u001b[0;34mf\"GP for task {task}, {len(x_train)} points\"\u001b[0m\u001b[0;34m,\u001b[0m \u001b[0mn\u001b[0m\u001b[0;34m=\u001b[0m\u001b[0;36m100\u001b[0m\u001b[0;34m)\u001b[0m\u001b[0;34m\u001b[0m\u001b[0;34m\u001b[0m\u001b[0m\n\u001b[0m",
            "\u001b[0;31mNameError\u001b[0m: name 'surfacePlot' is not defined"
          ]
        }
      ]
    },
    {
      "cell_type": "code",
      "source": [
        "task = \"sla\"\n",
        "\n",
        "def modelWrapper(X):\n",
        "  id = getTaskID(task)\n",
        "  id_vector = id * torch.ones((X.shape[0],1))\n",
        "  inp = torch.cat([X, id_vector], dim=1)\n",
        "  return model.posterior(inp).mean\n",
        "\n",
        "surfacePlot(modelWrapper, title=f\"GP for task {task}, {len(x_train)} points\", n=100)"
      ],
      "metadata": {
        "id": "rfgMrBYYsfzV"
      },
      "execution_count": null,
      "outputs": []
    },
    {
      "cell_type": "code",
      "source": [
        "task = \"pn\"\n",
        "\n",
        "def modelWrapper(X):\n",
        "  id = getTaskID(task)\n",
        "  id_vector = id * torch.ones((X.shape[0],1))\n",
        "  inp = torch.cat([X, id_vector], dim=1)\n",
        "  return model.posterior(inp).mean\n",
        "\n",
        "surfacePlot(modelWrapper, title=f\"GP for task {task}, {len(x_train)} points\", n=100)"
      ],
      "metadata": {
        "id": "wr2rdzITx6nG"
      },
      "execution_count": null,
      "outputs": []
    },
    {
      "cell_type": "code",
      "source": [
        "task = \"ps\"\n",
        "\n",
        "def modelWrapper(X):\n",
        "  id = getTaskID(task)\n",
        "  id_vector = id * torch.ones((X.shape[0],1))\n",
        "  inp = torch.cat([X, id_vector], dim=1)\n",
        "  return model.posterior(inp).mean\n",
        "\n",
        "surfacePlot(modelWrapper, title=f\"GP for task {task}, {len(x_train)} points\", n=100)"
      ],
      "metadata": {
        "id": "6fodxxVZx7Tc"
      },
      "execution_count": null,
      "outputs": []
    }
  ]
}