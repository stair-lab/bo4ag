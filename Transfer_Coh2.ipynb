{
  "nbformat": 4,
  "nbformat_minor": 0,
  "metadata": {
    "colab": {
      "provenance": [],
      "toc_visible": true,
      "include_colab_link": true
    },
    "kernelspec": {
      "name": "python3",
      "display_name": "Python 3"
    },
    "language_info": {
      "name": "python"
    }
  },
  "cells": [
    {
      "cell_type": "markdown",
      "metadata": {
        "id": "view-in-github",
        "colab_type": "text"
      },
      "source": [
        "<a href=\"https://colab.research.google.com/github/ruhanaazam/gp_transfer/blob/main/Transfer_Coh2.ipynb\" target=\"_parent\"><img src=\"https://colab.research.google.com/assets/colab-badge.svg\" alt=\"Open In Colab\"/></a>"
      ]
    },
    {
      "cell_type": "code",
      "source": [
        "from google.colab import drive\n",
        "drive.mount('/content/drive/')"
      ],
      "metadata": {
        "colab": {
          "base_uri": "https://localhost:8080/"
        },
        "id": "3PnCGZOHV3oE",
        "outputId": "04e9517b-7594-4aca-81d2-61d447a26cce"
      },
      "execution_count": null,
      "outputs": [
        {
          "output_type": "stream",
          "name": "stdout",
          "text": [
            "Drive already mounted at /content/drive/; to attempt to forcibly remount, call drive.mount(\"/content/drive/\", force_remount=True).\n"
          ]
        }
      ]
    },
    {
      "cell_type": "code",
      "source": [
        "#!pip install gpytorch"
      ],
      "metadata": {
        "id": "-HICaTiurvjS"
      },
      "execution_count": null,
      "outputs": []
    },
    {
      "cell_type": "code",
      "source": [
        "# !cd drive"
      ],
      "metadata": {
        "id": "o4WaVHKUXQUe"
      },
      "execution_count": null,
      "outputs": []
    },
    {
      "cell_type": "code",
      "execution_count": null,
      "metadata": {
        "id": "sfB0QOze1gFj"
      },
      "outputs": [],
      "source": [
        "import torch\n",
        "import pandas as pd\n",
        "from sklearn.model_selection import train_test_split\n",
        "from torch.utils.data import TensorDataset, DataLoader\n",
        "import numpy as np\n",
        "import gpytorch\n",
        "from botorch.utils.transforms import normalize, standardize\n",
        "import matplotlib.pyplot as plt\n",
        "\n",
        "# Check if GPU is available\n",
        "device = torch.device(\"cuda\" if torch.cuda.is_available() else \"cpu\")"
      ]
    },
    {
      "cell_type": "code",
      "source": [
        "def surfacePlot(model, title = \"Your Function\" ,n=900):\n",
        "    '''\n",
        "    Plots your (true or estimated) coheritability function.\n",
        "    model: function that takes in two wavelength and outputs coh2 (estimate)\n",
        "    n: n**2 is the number of points to plot the surface\n",
        "    '''\n",
        "    # Generate data for the plot\n",
        "    x1 = torch.linspace(0, 1, n)\n",
        "    x2 = torch.linspace(0, 1, n)\n",
        "    X1, X2 = torch.meshgrid(x1, x2)\n",
        "    X = torch.stack([X1.reshape((-1)),X2.reshape((-1))]).T\n",
        "\n",
        "    Z = model(X.to(device))#.cpu().detach().numpy()\n",
        "\n",
        "    # Create a contour plot\n",
        "    plt.contourf(X1, X2, Z.reshape(n, n), cmap='viridis')\n",
        "    plt.colorbar(label='Function Value')\n",
        "\n",
        "    #plot top 1%\n",
        "    #threshold = np.percentile(Z, 99)\n",
        "    #threshold = torch.kthvalue(Z.flatten(), int(0.99 * n * n)).values\n",
        "    #plt.contour(X1, X2, Z.reshape(n, n), levels=[threshold], colors='red', linewidths=2)\n",
        "\n",
        "    # Add labels and title\n",
        "    plt.xlabel('Wavelength 1')\n",
        "    plt.ylabel('Wavelength 2')\n",
        "    plt.title(title)\n",
        "\n",
        "    # Show the plot\n",
        "    plt.show()\n",
        "    return"
      ],
      "metadata": {
        "id": "JKL8p2x3S2-1"
      },
      "execution_count": null,
      "outputs": []
    },
    {
      "cell_type": "code",
      "source": [
        "def getTaskID(trait, crop=\"Sorghum\"):\n",
        "    assert crop == \"Sorghum\", \"Does not handles ids for from that are not Sorghum yet.\"\n",
        "    ids = {\"narea\": 1, \"sla\": 2, \"pn\": 3, \"ps\": 4}\n",
        "    return ids[trait]"
      ],
      "metadata": {
        "id": "wU8MCZvY1kFJ"
      },
      "execution_count": null,
      "outputs": []
    },
    {
      "cell_type": "code",
      "source": [
        "def loadTasks(tasks):\n",
        "    taskData = []\n",
        "    for trait in tasks:\n",
        "        #read raw task file\n",
        "        data = pd.read_csv(f\"/content/drive/My Drive/Colab Notebooks/Transfer_Coh2/data/{trait}_coh2.csv\")\n",
        "        data = torch.tensor(data.values)\n",
        "\n",
        "        #format data for supervised training, each row (taskid, wave1, wave2, coh2)\n",
        "        n = torch.ones(data.shape[0], dtype=torch.float32)\n",
        "        col_index =  torch.arange(data.shape[0], dtype=torch.float32)\n",
        "        col_index = torch.outer(n, col_index)\n",
        "        row_index = col_index.T\n",
        "\n",
        "        #stack wave1, wave2 and coh2 tensors together\n",
        "        task_ids = torch.ones(data.shape) * getTaskID(trait)\n",
        "        flat_data = torch.stack([task_ids.flatten(), col_index.flatten(), row_index.flatten(), data.flatten()])\n",
        "        flat_data = flat_data.T\n",
        "\n",
        "        #remove all rows with nans\n",
        "        nan_mask = torch.isnan(flat_data)\n",
        "        nan_in_rows = torch.any(nan_mask, dim=1)\n",
        "        clean = flat_data[~nan_in_rows]\n",
        "\n",
        "        taskData.append(clean)\n",
        "\n",
        "    #combine all tasks\n",
        "    all_tasks = torch.cat(taskData)\n",
        "    return all_tasks[:, :3], all_tasks[:, -1]"
      ],
      "metadata": {
        "id": "oYgXyyiW4XEs"
      },
      "execution_count": null,
      "outputs": []
    },
    {
      "cell_type": "code",
      "source": [
        "#Load data (by tasks)\n",
        "X, Y = loadTasks([\"narea\", \"sla\"])\n",
        "\n",
        "#Split into train and validation sets\n",
        "seed = 1234\n",
        "split = 1\n",
        "x_train, x_test, y_train, y_test = train_test_split(X, Y, test_size=split, random_state=seed)\n",
        "\n",
        "# Convert NumPy arrays to PyTorch tensors\n",
        "x_train = torch.tensor(x_train, dtype=torch.float64)\n",
        "y_train = torch.tensor(y_train, dtype=torch.float64)\n",
        "x_test = torch.tensor(x_test, dtype=torch.float64)\n",
        "y_test = torch.tensor(y_test, dtype=torch.float64)\n",
        "\n",
        "# # Create TensorDatasets\n",
        "# train_dataset = TensorDataset(X_train_tensor, Y_train_tensor)\n",
        "# test_dataset = TensorDataset(X_test_tensor, Y_test_tensor)\n",
        "\n",
        "# # Create DataLoader for training and test sets\n",
        "# train_loader = DataLoader(train_dataset, batch_size=batch_size, shuffle=True)\n",
        "# test_loader = DataLoader(test_dataset, batch_size=batch_size, shuffle=False)"
      ],
      "metadata": {
        "id": "xw1uVMpk4l0q",
        "colab": {
          "base_uri": "https://localhost:8080/"
        },
        "outputId": "19526500-1ce2-4fa5-f492-571cfec9fd88"
      },
      "execution_count": null,
      "outputs": [
        {
          "output_type": "stream",
          "name": "stderr",
          "text": [
            "<ipython-input-27-d2cf3699f1cf>:10: UserWarning: To copy construct from a tensor, it is recommended to use sourceTensor.clone().detach() or sourceTensor.clone().detach().requires_grad_(True), rather than torch.tensor(sourceTensor).\n",
            "  x_train = torch.tensor(x_train, dtype=torch.float64)\n",
            "<ipython-input-27-d2cf3699f1cf>:11: UserWarning: To copy construct from a tensor, it is recommended to use sourceTensor.clone().detach() or sourceTensor.clone().detach().requires_grad_(True), rather than torch.tensor(sourceTensor).\n",
            "  y_train = torch.tensor(y_train, dtype=torch.float64)\n",
            "<ipython-input-27-d2cf3699f1cf>:12: UserWarning: To copy construct from a tensor, it is recommended to use sourceTensor.clone().detach() or sourceTensor.clone().detach().requires_grad_(True), rather than torch.tensor(sourceTensor).\n",
            "  x_test = torch.tensor(x_test, dtype=torch.float64)\n",
            "<ipython-input-27-d2cf3699f1cf>:13: UserWarning: To copy construct from a tensor, it is recommended to use sourceTensor.clone().detach() or sourceTensor.clone().detach().requires_grad_(True), rather than torch.tensor(sourceTensor).\n",
            "  y_test = torch.tensor(y_test, dtype=torch.float64)\n"
          ]
        }
      ]
    },
    {
      "cell_type": "code",
      "source": [
        "# #x points for plot\n",
        "# space_x = np.linspace(350, 2500, 500)\n",
        "# mesh_x, mesh_y = np.meshgrid(space_x, space_x)\n",
        "# x_pred = np.vstack([mesh_x.ravel(), mesh_y.ravel()]).T"
      ],
      "metadata": {
        "id": "4cn9wGb2StwJ"
      },
      "execution_count": null,
      "outputs": []
    },
    {
      "cell_type": "code",
      "source": [
        "#subsection of data\n",
        "N = 1000\n",
        "x_train = x_train[:N,] #1:] #remove task feature\n",
        "x_train = normalize(x_train, torch.tensor([[0,0],[2150,2150]])).numpy()\n",
        "y_train = y_train [:N]\n",
        "y_train = standardize(y_train).numpy()\n",
        "\n",
        "#define kernel(s) for dataset above\n",
        "kernel = gpytorch.kernels.RBFKernel(ard_num_dims=2)\n",
        "kernel.lengthscale = torch.tensor([0.03, 0.035])\n",
        "\n",
        "rbf = kernel.__call__\n",
        "def k(x, y, h=rbf):\n",
        "  x = torch.tensor(x, dtype=torch.float64)\n",
        "  y = torch.tensor(y, dtype=torch.float64)\n",
        "  return h(x, y).numpy()"
      ],
      "metadata": {
        "id": "tL5aOXumQ2kF"
      },
      "execution_count": null,
      "outputs": []
    },
    {
      "cell_type": "code",
      "source": [
        "noise_scale = 0.04\n",
        "\n",
        "# #solve (exact) kernel regression\n",
        "# K = k(x_train, x_train, rbf)\n",
        "# alpha_exact = np.linalg.solve(K + noise_scale ** 2 * np.eye(N), y_train)\n",
        "\n",
        "# def exactMean(x_pred):\n",
        "#   return k(x_pred, x_train) @ alpha_exact"
      ],
      "metadata": {
        "id": "Qcey43DoSxuN"
      },
      "execution_count": null,
      "outputs": []
    },
    {
      "cell_type": "code",
      "source": [
        "# surfacePlot(exactMean, title=\"Exact Mean via Kernel Regression\", n=100)"
      ],
      "metadata": {
        "id": "STb2XbINTpos"
      },
      "execution_count": null,
      "outputs": []
    },
    {
      "cell_type": "markdown",
      "source": [
        "Using SDD method (refer: https://anonymous.4open.science/r/sdd-gps-5486/sdd.ipynb\n",
        ")"
      ],
      "metadata": {
        "id": "imToRKKEdAc6"
      }
    },
    {
      "cell_type": "code",
      "source": [
        "lr = 0.001\n",
        "momentum = 0.9\n",
        "polyak = 1e-2\n",
        "iterations = 3000\n",
        "B = 10\n",
        "\n",
        "#intialize variables\n",
        "alpha = np.zeros((N,))\n",
        "alpha_polyak = np.zeros((N,))\n",
        "v = np.zeros((N,))\n",
        "\n",
        "\n",
        "#dual objective\n",
        "def g(params, idx, k, N, B, noise_scale):\n",
        "    K_batch = k(x_train[idx], x_train)\n",
        "    grad = np.zeros((N,))\n",
        "    grad[idx] = K_batch @ params - y_train[idx] + (noise_scale ** 2) * params[idx]\n",
        "    return (N / B) * grad\n",
        "\n",
        "#update parameter\n",
        "def update(params_polyak, velocity, params, idx, k,  N, B, noise_scale):\n",
        "    grad = g(params=params, idx=idx, k=k, N=N, B=B, noise_scale=noise_scale)\n",
        "    velocity = momentum * velocity - lr * grad\n",
        "    params = params + velocity\n",
        "    params_polyak = polyak * params + (1.0 - polyak) * params_polyak\n",
        "    return params, params_polyak, velocity"
      ],
      "metadata": {
        "id": "PHq3bhmBqvyd"
      },
      "execution_count": null,
      "outputs": []
    },
    {
      "cell_type": "code",
      "source": [
        "for i in range(iterations):\n",
        "    idx = np.random.choice(N, size=(B,), replace=False)\n",
        "    alpha, alpha_polyak, v = update(params_polyak=alpha_polyak,\n",
        "                                    velocity=v,\n",
        "                                    params=alpha,\n",
        "                                    idx=idx, k=k, N=N, B=B,noise_scale=noise_scale)"
      ],
      "metadata": {
        "id": "tHi5xzK7Wa9Y"
      },
      "execution_count": null,
      "outputs": []
    },
    {
      "cell_type": "code",
      "source": [
        "def sddMean(x_pred):\n",
        "  return k(x_pred, x_train) @ alpha_polyak"
      ],
      "metadata": {
        "id": "W23uv-8BXZ92"
      },
      "execution_count": null,
      "outputs": []
    },
    {
      "cell_type": "code",
      "source": [
        "surfacePlot(sddMean, title=\"Sdd Mean\", n=100)"
      ],
      "metadata": {
        "colab": {
          "base_uri": "https://localhost:8080/",
          "height": 527
        },
        "id": "C18xNYqnZwa2",
        "outputId": "0057e9cb-d5e5-400f-da50-f4da712c3042"
      },
      "execution_count": null,
      "outputs": [
        {
          "output_type": "stream",
          "name": "stderr",
          "text": [
            "<ipython-input-10-e304239f45cb>:14: UserWarning: To copy construct from a tensor, it is recommended to use sourceTensor.clone().detach() or sourceTensor.clone().detach().requires_grad_(True), rather than torch.tensor(sourceTensor).\n",
            "  x = torch.tensor(x, dtype=torch.float64)\n"
          ]
        },
        {
          "output_type": "display_data",
          "data": {
            "text/plain": [
              "<Figure size 640x480 with 2 Axes>"
            ],
            "image/png": "[encoded data removed]"
          },
          "metadata": {}
        }
      ]
    },
    {
      "cell_type": "code",
      "source": [
        "# #(hyper)-parameters\n",
        "# smoke_test = False\n",
        "# task = \"narea\"\n",
        "# seed = 42\n",
        "# N = 100 # smoke test size\n",
        "# signal_scale = 1 # 1.2\n",
        "# length_scale = 0.7 #length scale needs to be fixed\n",
        "# noise_scale = 0.2\n",
        "\n",
        "# lr = 0.001\n",
        "# momentum = 0.9\n",
        "# polyak = 1e-2\n",
        "# iterations = 3000 #epoch\n",
        "# B = 10 #batch size\n",
        "\n",
        "# #define kernel(s)\n",
        "# kernel = gpytorch.kernels.RBFKernel()\n",
        "# kernel.lengthscale = length_scale\n",
        "# rbf = kernel.__call__\n",
        "# def k(x, y, h=rbf):\n",
        "#   x = torch.tensor(x)\n",
        "#   y = torch.tensor(y)\n",
        "#   return h(x, y).numpy()"
      ],
      "metadata": {
        "id": "aHnEkHGvnlo0"
      },
      "execution_count": null,
      "outputs": []
    },
    {
      "cell_type": "code",
      "source": [
        "# alpha = np.zeros((N,))\n",
        "# alpha_polyak = np.zeros((N,))\n",
        "# v = np.zeros((N,))\n",
        "\n",
        "# for i in range(iterations):\n",
        "#     idx = np.random.choice(N, size=(B,), replace=False)\n",
        "#     alpha, alpha_polyak, v = update(\n",
        "#         params_polyak=alpha_polyak,\n",
        "#         velocity=v,\n",
        "#         params=alpha,\n",
        "#         idx=idx,\n",
        "#         k=k,\n",
        "#         N=N,\n",
        "#         B=B,\n",
        "#         noise_scale=noise_scale\n",
        "#     )\n",
        "# y_pred_sdd = k(x_pred, x_train) @ alpha_polyak"
      ],
      "metadata": {
        "id": "o6ImXnWMc_X6"
      },
      "execution_count": null,
      "outputs": []
    }
  ]
}