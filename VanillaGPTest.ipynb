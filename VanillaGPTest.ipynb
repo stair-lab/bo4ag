{
  "nbformat": 4,
  "nbformat_minor": 0,
  "metadata": {
    "colab": {
      "provenance": [],
      "authorship_tag": "ABX9TyNp148jB4D8NSgGOf8uzjzJ",
      "include_colab_link": true
    },
    "kernelspec": {
      "name": "python3",
      "display_name": "Python 3"
    },
    "language_info": {
      "name": "python"
    }
  },
  "cells": [
    {
      "cell_type": "markdown",
      "metadata": {
        "id": "view-in-github",
        "colab_type": "text"
      },
      "source": [
        "<a href=\"https://colab.research.google.com/github/ruhanaazam/gp_transfer/blob/main/VanillaGPTest.ipynb\" target=\"_parent\"><img src=\"https://colab.research.google.com/assets/colab-badge.svg\" alt=\"Open In Colab\"/></a>"
      ]
    },
    {
      "cell_type": "code",
      "execution_count": 2,
      "metadata": {
        "colab": {
          "base_uri": "https://localhost:8080/"
        },
        "id": "VP0bM4HbO1f8",
        "outputId": "7df206df-a1c7-4f48-87d5-d81b83637752"
      },
      "outputs": [
        {
          "output_type": "stream",
          "name": "stdout",
          "text": [
            "Drive already mounted at /content/drive/; to attempt to forcibly remount, call drive.mount(\"/content/drive/\", force_remount=True).\n"
          ]
        }
      ],
      "source": [
        "from google.colab import drive\n",
        "drive.mount('/content/drive/')"
      ]
    },
    {
      "cell_type": "code",
      "source": [
        "!cd drive"
      ],
      "metadata": {
        "id": "k_eXSNtIO_Zt"
      },
      "execution_count": 2,
      "outputs": []
    },
    {
      "cell_type": "code",
      "source": [
        "!pip install gpytorch\n",
        "!pip install botorch"
      ],
      "metadata": {
        "id": "egHIkDIoPldz",
        "colab": {
          "base_uri": "https://localhost:8080/"
        },
        "outputId": "73683800-44c0-4774-80e9-ee0e18b85b86"
      },
      "execution_count": 3,
      "outputs": [
        {
          "output_type": "stream",
          "name": "stdout",
          "text": [
            "Collecting gpytorch\n",
            "  Downloading gpytorch-1.11-py3-none-any.whl (266 kB)\n",
            "\u001b[2K     \u001b[90m━━━━━━━━━━━━━━━━━━━━━━━━━━━━━━━━━━━━━━━━\u001b[0m \u001b[32m266.1/266.1 kB\u001b[0m \u001b[31m2.2 MB/s\u001b[0m eta \u001b[36m0:00:00\u001b[0m\n",
            "\u001b[?25hRequirement already satisfied: scikit-learn in /usr/local/lib/python3.10/dist-packages (from gpytorch) (1.2.2)\n",
            "Collecting linear-operator>=0.5.0 (from gpytorch)\n",
            "  Downloading linear_operator-0.5.2-py3-none-any.whl (175 kB)\n",
            "\u001b[2K     \u001b[90m━━━━━━━━━━━━━━━━━━━━━━━━━━━━━━━━━━━━━━━━\u001b[0m \u001b[32m175.6/175.6 kB\u001b[0m \u001b[31m12.8 MB/s\u001b[0m eta \u001b[36m0:00:00\u001b[0m\n",
            "\u001b[?25hRequirement already satisfied: torch>=1.11 in /usr/local/lib/python3.10/dist-packages (from linear-operator>=0.5.0->gpytorch) (2.1.0+cu121)\n",
            "Requirement already satisfied: scipy in /usr/local/lib/python3.10/dist-packages (from linear-operator>=0.5.0->gpytorch) (1.11.4)\n",
            "Collecting jaxtyping>=0.2.9 (from linear-operator>=0.5.0->gpytorch)\n",
            "  Downloading jaxtyping-0.2.25-py3-none-any.whl (39 kB)\n",
            "Collecting typeguard~=2.13.3 (from linear-operator>=0.5.0->gpytorch)\n",
            "  Downloading typeguard-2.13.3-py3-none-any.whl (17 kB)\n",
            "Requirement already satisfied: numpy>=1.17.3 in /usr/local/lib/python3.10/dist-packages (from scikit-learn->gpytorch) (1.23.5)\n",
            "Requirement already satisfied: joblib>=1.1.1 in /usr/local/lib/python3.10/dist-packages (from scikit-learn->gpytorch) (1.3.2)\n",
            "Requirement already satisfied: threadpoolctl>=2.0.0 in /usr/local/lib/python3.10/dist-packages (from scikit-learn->gpytorch) (3.2.0)\n",
            "Requirement already satisfied: typing-extensions>=3.7.4.1 in /usr/local/lib/python3.10/dist-packages (from jaxtyping>=0.2.9->linear-operator>=0.5.0->gpytorch) (4.5.0)\n",
            "Requirement already satisfied: filelock in /usr/local/lib/python3.10/dist-packages (from torch>=1.11->linear-operator>=0.5.0->gpytorch) (3.13.1)\n",
            "Requirement already satisfied: sympy in /usr/local/lib/python3.10/dist-packages (from torch>=1.11->linear-operator>=0.5.0->gpytorch) (1.12)\n",
            "Requirement already satisfied: networkx in /usr/local/lib/python3.10/dist-packages (from torch>=1.11->linear-operator>=0.5.0->gpytorch) (3.2.1)\n",
            "Requirement already satisfied: jinja2 in /usr/local/lib/python3.10/dist-packages (from torch>=1.11->linear-operator>=0.5.0->gpytorch) (3.1.3)\n",
            "Requirement already satisfied: fsspec in /usr/local/lib/python3.10/dist-packages (from torch>=1.11->linear-operator>=0.5.0->gpytorch) (2023.6.0)\n",
            "Requirement already satisfied: triton==2.1.0 in /usr/local/lib/python3.10/dist-packages (from torch>=1.11->linear-operator>=0.5.0->gpytorch) (2.1.0)\n",
            "Requirement already satisfied: MarkupSafe>=2.0 in /usr/local/lib/python3.10/dist-packages (from jinja2->torch>=1.11->linear-operator>=0.5.0->gpytorch) (2.1.4)\n",
            "Requirement already satisfied: mpmath>=0.19 in /usr/local/lib/python3.10/dist-packages (from sympy->torch>=1.11->linear-operator>=0.5.0->gpytorch) (1.3.0)\n",
            "Installing collected packages: typeguard, jaxtyping, linear-operator, gpytorch\n",
            "Successfully installed gpytorch-1.11 jaxtyping-0.2.25 linear-operator-0.5.2 typeguard-2.13.3\n",
            "Collecting botorch\n",
            "  Downloading botorch-0.9.5-py3-none-any.whl (596 kB)\n",
            "\u001b[2K     \u001b[90m━━━━━━━━━━━━━━━━━━━━━━━━━━━━━━━━━━━━━━━━\u001b[0m \u001b[32m596.4/596.4 kB\u001b[0m \u001b[31m3.7 MB/s\u001b[0m eta \u001b[36m0:00:00\u001b[0m\n",
            "\u001b[?25hRequirement already satisfied: multipledispatch in /usr/local/lib/python3.10/dist-packages (from botorch) (1.0.0)\n",
            "Requirement already satisfied: scipy in /usr/local/lib/python3.10/dist-packages (from botorch) (1.11.4)\n",
            "Requirement already satisfied: torch>=1.13.1 in /usr/local/lib/python3.10/dist-packages (from botorch) (2.1.0+cu121)\n",
            "Collecting pyro-ppl>=1.8.4 (from botorch)\n",
            "  Downloading pyro_ppl-1.8.6-py3-none-any.whl (732 kB)\n",
            "\u001b[2K     \u001b[90m━━━━━━━━━━━━━━━━━━━━━━━━━━━━━━━━━━━━━━━━\u001b[0m \u001b[32m732.8/732.8 kB\u001b[0m \u001b[31m15.6 MB/s\u001b[0m eta \u001b[36m0:00:00\u001b[0m\n",
            "\u001b[?25hRequirement already satisfied: gpytorch==1.11 in /usr/local/lib/python3.10/dist-packages (from botorch) (1.11)\n",
            "Collecting linear-operator==0.5.1 (from botorch)\n",
            "  Downloading linear_operator-0.5.1-py3-none-any.whl (174 kB)\n",
            "\u001b[2K     \u001b[90m━━━━━━━━━━━━━━━━━━━━━━━━━━━━━━━━━━━━━━━━\u001b[0m \u001b[32m174.5/174.5 kB\u001b[0m \u001b[31m27.2 MB/s\u001b[0m eta \u001b[36m0:00:00\u001b[0m\n",
            "\u001b[?25hRequirement already satisfied: scikit-learn in /usr/local/lib/python3.10/dist-packages (from gpytorch==1.11->botorch) (1.2.2)\n",
            "Requirement already satisfied: jaxtyping>=0.2.9 in /usr/local/lib/python3.10/dist-packages (from linear-operator==0.5.1->botorch) (0.2.25)\n",
            "Requirement already satisfied: typeguard~=2.13.3 in /usr/local/lib/python3.10/dist-packages (from linear-operator==0.5.1->botorch) (2.13.3)\n",
            "Requirement already satisfied: numpy>=1.7 in /usr/local/lib/python3.10/dist-packages (from pyro-ppl>=1.8.4->botorch) (1.23.5)\n",
            "Requirement already satisfied: opt-einsum>=2.3.2 in /usr/local/lib/python3.10/dist-packages (from pyro-ppl>=1.8.4->botorch) (3.3.0)\n",
            "Collecting pyro-api>=0.1.1 (from pyro-ppl>=1.8.4->botorch)\n",
            "  Downloading pyro_api-0.1.2-py3-none-any.whl (11 kB)\n",
            "Requirement already satisfied: tqdm>=4.36 in /usr/local/lib/python3.10/dist-packages (from pyro-ppl>=1.8.4->botorch) (4.66.1)\n",
            "Requirement already satisfied: filelock in /usr/local/lib/python3.10/dist-packages (from torch>=1.13.1->botorch) (3.13.1)\n",
            "Requirement already satisfied: typing-extensions in /usr/local/lib/python3.10/dist-packages (from torch>=1.13.1->botorch) (4.5.0)\n",
            "Requirement already satisfied: sympy in /usr/local/lib/python3.10/dist-packages (from torch>=1.13.1->botorch) (1.12)\n",
            "Requirement already satisfied: networkx in /usr/local/lib/python3.10/dist-packages (from torch>=1.13.1->botorch) (3.2.1)\n",
            "Requirement already satisfied: jinja2 in /usr/local/lib/python3.10/dist-packages (from torch>=1.13.1->botorch) (3.1.3)\n",
            "Requirement already satisfied: fsspec in /usr/local/lib/python3.10/dist-packages (from torch>=1.13.1->botorch) (2023.6.0)\n",
            "Requirement already satisfied: triton==2.1.0 in /usr/local/lib/python3.10/dist-packages (from torch>=1.13.1->botorch) (2.1.0)\n",
            "Requirement already satisfied: MarkupSafe>=2.0 in /usr/local/lib/python3.10/dist-packages (from jinja2->torch>=1.13.1->botorch) (2.1.4)\n",
            "Requirement already satisfied: joblib>=1.1.1 in /usr/local/lib/python3.10/dist-packages (from scikit-learn->gpytorch==1.11->botorch) (1.3.2)\n",
            "Requirement already satisfied: threadpoolctl>=2.0.0 in /usr/local/lib/python3.10/dist-packages (from scikit-learn->gpytorch==1.11->botorch) (3.2.0)\n",
            "Requirement already satisfied: mpmath>=0.19 in /usr/local/lib/python3.10/dist-packages (from sympy->torch>=1.13.1->botorch) (1.3.0)\n",
            "Installing collected packages: pyro-api, pyro-ppl, linear-operator, botorch\n",
            "  Attempting uninstall: linear-operator\n",
            "    Found existing installation: linear-operator 0.5.2\n",
            "    Uninstalling linear-operator-0.5.2:\n",
            "      Successfully uninstalled linear-operator-0.5.2\n",
            "Successfully installed botorch-0.9.5 linear-operator-0.5.1 pyro-api-0.1.2 pyro-ppl-1.8.6\n"
          ]
        }
      ]
    },
    {
      "cell_type": "code",
      "source": [
        "import torch\n",
        "import pandas as pd\n",
        "from sklearn.model_selection import train_test_split\n",
        "import numpy as np\n",
        "import gpytorch\n",
        "from botorch.utils.transforms import normalize, standardize\n",
        "import matplotlib.pyplot as plt\n",
        "\n",
        "from botorch import fit_gpytorch_model\n",
        "from botorch.models import SingleTaskGP, MixedSingleTaskGP\n",
        "from gpytorch.mlls import ExactMarginalLogLikelihood\n",
        "from botorch.models.transforms import Standardize, Normalize\n",
        "from botorch.utils.transforms import normalize, standardize\n",
        "from botorch.fit import fit_gpytorch_mll\n",
        "\n",
        "import pickle\n",
        "\n",
        "# Check if GPU is available\n",
        "device = torch.device(\"cuda\" if torch.cuda.is_available() else \"cpu\")"
      ],
      "metadata": {
        "id": "ra70LWXBPFRL"
      },
      "execution_count": 3,
      "outputs": []
    },
    {
      "cell_type": "code",
      "source": [
        "def surfacePlot(model, title = \"Your Function\" ,n=900):\n",
        "    '''\n",
        "    Plots your (true or estimated) coheritability function.\n",
        "    model: function that takes in two wavelength and outputs coh2 (estimate)\n",
        "    n: n**2 is the number of points to plot the surface\n",
        "    '''\n",
        "    # Generate data for the plot\n",
        "    x1 = torch.linspace(0, 1, n)\n",
        "    x2 = torch.linspace(0, 1, n)\n",
        "    X1, X2 = torch.meshgrid(x1, x2)\n",
        "    X = torch.stack([X1.reshape((-1)),X2.reshape((-1))]).T\n",
        "\n",
        "    Z = model(X.to(device)).cpu().detach().numpy()\n",
        "\n",
        "    # Create a contour plot\n",
        "    plt.contourf(X1, X2, Z.reshape(n, n), cmap='viridis')\n",
        "    plt.colorbar(label='Function Value')\n",
        "\n",
        "    #plot top 1%\n",
        "    #threshold = np.percentile(Z, 99)\n",
        "    #threshold = torch.kthvalue(Z.flatten(), int(0.99 * n * n)).values\n",
        "    #plt.contour(X1, X2, Z.reshape(n, n), levels=[threshold], colors='red', linewidths=2)\n",
        "\n",
        "    # Add labels and title\n",
        "    plt.xlabel('Wavelength 1')\n",
        "    plt.ylabel('Wavelength 2')\n",
        "    plt.title(title)\n",
        "\n",
        "    # Show the plot\n",
        "    plt.show()\n",
        "    return"
      ],
      "metadata": {
        "id": "PXDaiVe5PHr5"
      },
      "execution_count": 4,
      "outputs": []
    },
    {
      "cell_type": "code",
      "source": [
        "def getTaskID(trait, crop=\"Sorghum\"):\n",
        "    assert crop == \"Sorghum\", \"Does not handles ids for from that are not Sorghum yet.\"\n",
        "    ids = {\"narea\": 1, \"sla\": 2, \"pn\": 3, \"ps\": 4}\n",
        "    return ids[trait]"
      ],
      "metadata": {
        "id": "fXXuL2OGPLZS"
      },
      "execution_count": 5,
      "outputs": []
    },
    {
      "cell_type": "code",
      "source": [
        "def loadTasks(tasks):\n",
        "    taskData = []\n",
        "    for trait in tasks:\n",
        "        #read raw task file\n",
        "        data = pd.read_csv(f\"/content/drive/My Drive/Colab Notebooks/Transfer_Coh2/data/{trait}_coh2.csv\")\n",
        "        data = torch.tensor(data.values)\n",
        "\n",
        "        #format data for supervised training, each row (taskid, wave1, wave2, coh2)\n",
        "        n = torch.ones(data.shape[0], dtype=torch.float32)\n",
        "        col_index =  torch.arange(data.shape[0], dtype=torch.float32)\n",
        "        col_index = torch.outer(n, col_index)\n",
        "        row_index = col_index.T\n",
        "\n",
        "        #stack wave1, wave2 and coh2 tensors together\n",
        "        task_ids = torch.ones(data.shape) * getTaskID(trait)\n",
        "        flat_data = torch.stack([task_ids.flatten(), col_index.flatten(), row_index.flatten(), data.flatten()])\n",
        "        flat_data = flat_data.T\n",
        "\n",
        "        #remove all rows with nans\n",
        "        nan_mask = torch.isnan(flat_data)\n",
        "        nan_in_rows = torch.any(nan_mask, dim=1)\n",
        "        clean = flat_data[~nan_in_rows]\n",
        "\n",
        "        taskData.append(clean)\n",
        "\n",
        "    #combine all tasks\n",
        "    all_tasks = torch.cat(taskData)\n",
        "    return all_tasks[:, :3], all_tasks[:, -1]"
      ],
      "metadata": {
        "id": "PQ6jsov2PQsD"
      },
      "execution_count": 6,
      "outputs": []
    },
    {
      "cell_type": "code",
      "source": [
        "# #Load data (by tasks)\n",
        "# X, Y = loadTasks([\"narea\", \"sla\", \"pn\", \"ps\"])\n",
        "\n",
        "# #Split into train and validation sets\n",
        "# seed = 1234\n",
        "# split = 0.85\n",
        "# x_train, x_test, y_train, y_test = train_test_split(X, Y, test_size=split, random_state=seed)\n",
        "\n",
        "# # Convert NumPy arrays to PyTorch tensors\n",
        "# x_train = torch.tensor(x_train, dtype=torch.float64)\n",
        "# y_train = torch.tensor(y_train, dtype=torch.float64)\n",
        "# x_test = torch.tensor(x_test, dtype=torch.float64)\n",
        "# y_test = torch.tensor(y_test, dtype=torch.float64)"
      ],
      "metadata": {
        "id": "jsRiYk1ZPR7L"
      },
      "execution_count": 8,
      "outputs": []
    },
    {
      "cell_type": "code",
      "source": [
        "#train SingleTaskGP\n",
        "#should have one result dictionary for each task...\n",
        "seed = 1234\n",
        "split = 0.85\n",
        "\n",
        "results = {}\n",
        "for task in [\"ps\"]:\n",
        "  #load data for single task and split into training and test\n",
        "  X, Y = loadTasks([task])\n",
        "  x_train, x_test, y_train, y_test = train_test_split(X, Y, test_size=split, random_state=seed)\n",
        "  del X\n",
        "  del Y\n",
        "\n",
        "  # normalize input, standardize y\n",
        "  M = 100 #validation set size\n",
        "  c_xtest = normalize(x_test[:M, 1:], torch.tensor([[0,0],[2150,2150]])) #continous part\n",
        "  y_test_standardized = standardize(y_test[:M]).reshape(-1,1)\n",
        "\n",
        "  c_xtrain = normalize(x_train[:, 1:], torch.tensor([[0,0],[2150,2150]])) #continous part\n",
        "  y_train_standardized = standardize(y_train).reshape(-1,1)\n",
        "\n",
        "  option_n = [i for i in range(50, 100, 25)]\n",
        "  task_result = {\"val_loss\":[],\n",
        "           \"train_loss\": []\n",
        "           }\n",
        "  for N in option_n:\n",
        "    # Train the model ...\n",
        "    model = SingleTaskGP(c_xtrain[:N], y_train_standardized[:N])\n",
        "\n",
        "    # Use Exact Marginal Log Likelihood as the loss\n",
        "    mll = ExactMarginalLogLikelihood(model.likelihood, model)\n",
        "\n",
        "    # Fit the model\n",
        "    fit_gpytorch_mll(mll, )\n",
        "\n",
        "    #save the losses\n",
        "    y_hat = model.posterior(c_xtest).mean\n",
        "    val_loss = torch.mean((y_test_standardized - y_hat)**2).item()\n",
        "    task_result[\"val_loss\"].append(val_loss)\n",
        "\n",
        "    y_hat = model.posterior(c_xtrain).mean\n",
        "    train_loss = torch.mean((y_train_standardized - y_hat)**2).item()\n",
        "    task_result[\"train_loss\"].append(train_loss)\n",
        "\n",
        "  results[task] = task_result\n",
        "\n",
        "  #save results\n",
        "  base_path = \"/content/drive/My Drive/Colab Notebooks/Transfer_Coh2\"\n",
        "  with open(f'{base_path}/results/vanillaGP_single.pkl', 'wb') as pickle_file:\n",
        "    pickle.dump(results, pickle_file)\n",
        "\n",
        "  #save model\n",
        "  torch.save(model.state_dict(), f'{base_path}/models/vanilla_gp_{N}.pth')"
      ],
      "metadata": {
        "id": "gPsLYSEKNGMd",
        "colab": {
          "base_uri": "https://localhost:8080/"
        },
        "outputId": "69b5e167-f0cf-4559-ae52-2939d5ef54df"
      },
      "execution_count": 7,
      "outputs": [
        {
          "output_type": "stream",
          "name": "stderr",
          "text": [
            "/usr/local/lib/python3.10/dist-packages/botorch/models/utils/assorted.py:202: InputDataWarning: Input data is not standardized (mean = tensor([-0.0893], dtype=torch.float64), std = tensor([0.9369], dtype=torch.float64)). Please consider scaling the input to zero mean and unit variance.\n",
            "  warnings.warn(msg, InputDataWarning)\n",
            "/usr/local/lib/python3.10/dist-packages/botorch/models/utils/assorted.py:202: InputDataWarning: Input data is not standardized (mean = tensor([-0.0310], dtype=torch.float64), std = tensor([1.0102], dtype=torch.float64)). Please consider scaling the input to zero mean and unit variance.\n",
            "  warnings.warn(msg, InputDataWarning)\n"
          ]
        }
      ]
    },
    {
      "cell_type": "code",
      "source": [
        "base_path = \"/content/drive/My Drive/Colab Notebooks/Transfer_Coh2\"\n",
        "\n",
        "#re-load your results\n",
        "with open(f'{base_path}/results/vanillaGP_single.pkl', 'rb') as pickle_file:\n",
        "    loaded_results = pickle.load(pickle_file)\n",
        "\n",
        "#re-load model here\n",
        "model_N = 75 # num training data in desired model\n",
        "state_dict = torch.load(f'{base_path}/models/vanilla_gp_{model_N}.pth')\n",
        "model = SingleTaskGP(c_xtrain, y_train_standardized)  # Create a new GP model\n",
        "model.load_state_dict(state_dict)"
      ],
      "metadata": {
        "id": "ygBuMhuJaAGU",
        "colab": {
          "base_uri": "https://localhost:8080/"
        },
        "outputId": "9b3371c2-7dc8-4aeb-a31b-01e43c12cc1b"
      },
      "execution_count": 9,
      "outputs": [
        {
          "output_type": "execute_result",
          "data": {
            "text/plain": [
              "<All keys matched successfully>"
            ]
          },
          "metadata": {},
          "execution_count": 9
        }
      ]
    },
    {
      "cell_type": "code",
      "source": [
        "#plot training and validation loss\n",
        "for task in [\"ps\"]:\n",
        "  task_dic = results[task]\n",
        "\n",
        "  # Create a line plot\n",
        "  plt.plot(option_n, task_dic[\"val_loss\"], label = \"val_loss\")\n",
        "  plt.plot(option_n, task_dic[\"train_loss\"], label = \"train_loss\")\n",
        "\n",
        "# Add labels and title\n",
        "plt.xlabel('N points')\n",
        "plt.ylabel('MSE Loss')\n",
        "plt.title('Samples vs Loss')\n",
        "plt.legend()\n",
        "\n",
        "# Show the plot\n",
        "plt.show()"
      ],
      "metadata": {
        "id": "5U4KBRziNKMQ",
        "colab": {
          "base_uri": "https://localhost:8080/",
          "height": 472
        },
        "outputId": "e1116967-cb70-4af9-af21-905e4798becc"
      },
      "execution_count": 10,
      "outputs": [
        {
          "output_type": "display_data",
          "data": {
            "text/plain": [
              "<Figure size 640x480 with 1 Axes>"
            ],
            "image/png": "[encoded data removed]"
          },
          "metadata": {}
        }
      ]
    },
    {
      "cell_type": "code",
      "source": [
        "for task in [\"ps\"]:\n",
        "  def modelWrapper(X):\n",
        "    inp = X\n",
        "    return model.posterior(inp).mean\n",
        "\n",
        "  surfacePlot(modelWrapper, title=f\"GP for task {task}, {N} points\", n=100)"
      ],
      "metadata": {
        "colab": {
          "base_uri": "https://localhost:8080/"
        },
        "id": "O_cgsFULuWij",
        "outputId": "8f389eb6-48ad-4f79-f885-9f9e0b312722"
      },
      "execution_count": null,
      "outputs": [
        {
          "output_type": "stream",
          "name": "stderr",
          "text": [
            "/usr/local/lib/python3.10/dist-packages/torch/functional.py:504: UserWarning: torch.meshgrid: in an upcoming release, it will be required to pass the indexing argument. (Triggered internally at ../aten/src/ATen/native/TensorShape.cpp:3526.)\n",
            "  return _VF.meshgrid(tensors, **kwargs)  # type: ignore[attr-defined]\n"
          ]
        }
      ]
    }
  ]
}